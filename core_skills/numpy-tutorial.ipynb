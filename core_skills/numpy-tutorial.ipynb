{
 "cells": [
  {
   "cell_type": "markdown",
   "metadata": {},
   "source": [
    "### NumPy Tutorial\n",
    "Date 30/01/2025"
   ]
  },
  {
   "cell_type": "code",
   "execution_count": 2,
   "metadata": {},
   "outputs": [
    {
     "name": "stdout",
     "output_type": "stream",
     "text": [
      "1D array: [1 2 3 4 5]\n",
      "2D array:\n",
      " [[1 2 3]\n",
      " [4 5 6]]\n",
      "Array of zeros:\n",
      " [[0. 0. 0.]\n",
      " [0. 0. 0.]\n",
      " [0. 0. 0.]]\n",
      "Array of ones:\n",
      " [[1. 1. 1. 1.]\n",
      " [1. 1. 1. 1.]]\n",
      "Array of constant value 7:\n",
      " [[7 7]\n",
      " [7 7]]\n",
      "Array with range of values: [0 2 4 6 8]\n",
      "Array with random values:\n",
      " [[0.88898799 0.83212174 0.1362632 ]\n",
      " [0.47024533 0.14384362 0.38542538]\n",
      " [0.09953079 0.3312474  0.77825431]]\n"
     ]
    }
   ],
   "source": [
    "import numpy as np\n",
    "\n",
    "# Creating Arrays\n",
    "# 1D array\n",
    "arr1 = np.array([1, 2, 3, 4, 5])\n",
    "print(\"1D array:\", arr1)\n",
    "\n",
    "# 2D array\n",
    "arr2 = np.array([[1, 2, 3], [4, 5, 6]])\n",
    "print(\"2D array:\\n\", arr2)\n",
    "\n",
    "# Array of zeros\n",
    "zeros = np.zeros((3, 3))\n",
    "print(\"Array of zeros:\\n\", zeros)\n",
    "\n",
    "# Array of ones\n",
    "ones = np.ones((2, 4))\n",
    "print(\"Array of ones:\\n\", ones)\n",
    "\n",
    "# Array of a constant value\n",
    "full = np.full((2, 2), 7)\n",
    "print(\"Array of constant value 7:\\n\", full)\n",
    "\n",
    "# Array with a range of values\n",
    "range_arr = np.arange(0, 10, 2)\n",
    "print(\"Array with range of values:\", range_arr)\n",
    "\n",
    "# Array with random values\n",
    "random_arr = np.random.random((3, 3))\n",
    "print(\"Array with random values:\\n\", random_arr)\n",
    "\n"
   ]
  },
  {
   "cell_type": "code",
   "execution_count": 3,
   "metadata": {},
   "outputs": [
    {
     "name": "stdout",
     "output_type": "stream",
     "text": [
      "Element-wise addition: [3 4 5 6 7]\n",
      "Element-wise subtraction: [-1  0  1  2  3]\n",
      "Element-wise multiplication: [ 2  4  6  8 10]\n",
      "Element-wise division: [0.5 1.  1.5 2.  2.5]\n"
     ]
    }
   ],
   "source": [
    "# Basic Operations\n",
    "# Element-wise addition\n",
    "add = arr1 + 2\n",
    "print(\"Element-wise addition:\", add)\n",
    "\n",
    "# Element-wise subtraction\n",
    "sub = arr1 - 2\n",
    "print(\"Element-wise subtraction:\", sub)\n",
    "\n",
    "# Element-wise multiplication\n",
    "mul = arr1 * 2\n",
    "print(\"Element-wise multiplication:\", mul)\n",
    "\n",
    "# Element-wise division\n",
    "div = arr1 / 2\n",
    "print(\"Element-wise division:\", div)\n",
    "\n"
   ]
  },
  {
   "cell_type": "code",
   "execution_count": 4,
   "metadata": {},
   "outputs": [
    {
     "name": "stdout",
     "output_type": "stream",
     "text": [
      "Sliced array: [2 3 4]\n",
      "Reshaped array:\n",
      " [[1 2]\n",
      " [3 4]\n",
      " [5 6]]\n",
      "Concatenated array: [1 2 3 4 5 6 7 8]\n",
      "Mean of arr1: 3.0\n",
      "Standard deviation of arr1: 1.4142135623730951\n",
      "Sum of arr1: 15\n"
     ]
    }
   ],
   "source": [
    "# Array slicing\n",
    "sliced_arr = arr1[1:4]\n",
    "print(\"Sliced array:\", sliced_arr)\n",
    "\n",
    "# Reshaping arrays\n",
    "reshaped_arr = arr2.reshape(3, 2)\n",
    "print(\"Reshaped array:\\n\", reshaped_arr)\n",
    "\n",
    "# Array concatenation\n",
    "concat_arr = np.concatenate((arr1, [6, 7, 8]))\n",
    "print(\"Concatenated array:\", concat_arr)\n",
    "\n",
    "# Array statistics\n",
    "mean = np.mean(arr1)\n",
    "print(\"Mean of arr1:\", mean)\n",
    "\n",
    "std_dev = np.std(arr1)\n",
    "print(\"Standard deviation of arr1:\", std_dev)\n",
    "\n",
    "sum_arr = np.sum(arr1)\n",
    "print(\"Sum of arr1:\", sum_arr)\n",
    "\n"
   ]
  },
  {
   "cell_type": "code",
   "execution_count": 9,
   "metadata": {},
   "outputs": [
    {
     "name": "stdout",
     "output_type": "stream",
     "text": [
      "Matrix 1:\n",
      " [[1 2]\n",
      " [3 4]]\n",
      "Matrix 2:\n",
      " [[5 6]\n",
      " [7 8]]\n",
      "Matrix multiplication:\n",
      " [[19 22]\n",
      " [43 50]]\n",
      "Transpose of mat1:\n",
      " [[1 3]\n",
      " [2 4]]\n",
      "Inverse of mat1:\n",
      " [[-2.   1. ]\n",
      " [ 1.5 -0.5]]\n"
     ]
    }
   ],
   "source": [
    "# Linear algebra operations\n",
    "# Matrix multiplication\n",
    "mat1 = np.array([[1, 2], [3, 4]])\n",
    "mat2 = np.array([[5, 6], [7, 8]])\n",
    "mat_mul = np.dot(mat1, mat2)\n",
    "print(\"Matrix 1:\\n\", mat1)\n",
    "print(\"Matrix 2:\\n\", mat2)\n",
    "print(\"Matrix multiplication:\\n\", mat_mul)\n",
    "\n",
    "# Transpose of a matrix\n",
    "transpose = np.transpose(mat1)\n",
    "print(\"Transpose of mat1:\\n\", transpose)\n",
    "\n",
    "# Inverse of a matrix\n",
    "inverse = np.linalg.inv(mat1)\n",
    "print(\"Inverse of mat1:\\n\", inverse)"
   ]
  }
 ],
 "metadata": {
  "kernelspec": {
   "display_name": ".venv",
   "language": "python",
   "name": "python3"
  },
  "language_info": {
   "codemirror_mode": {
    "name": "ipython",
    "version": 3
   },
   "file_extension": ".py",
   "mimetype": "text/x-python",
   "name": "python",
   "nbconvert_exporter": "python",
   "pygments_lexer": "ipython3",
   "version": "3.12.0"
  }
 },
 "nbformat": 4,
 "nbformat_minor": 2
}
