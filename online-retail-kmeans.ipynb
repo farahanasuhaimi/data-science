{
 "cells": [
  {
   "cell_type": "markdown",
   "metadata": {},
   "source": [
    "### Online Retails Data with KMeans Clustering\n",
    "- Data Source: https://archive.ics.uci.edu/dataset/502/online+retail+ii\n",
    "- date: 2024-11-01"
   ]
  },
  {
   "cell_type": "code",
   "execution_count": 2,
   "metadata": {},
   "outputs": [],
   "source": [
    "### Setup\n",
    "import pandas as pd\n",
    "import matplotlib.pyplot as pyplot\n",
    "import seaborn as sns\n",
    "\n",
    "pd.options.display.float_format = '{:,.2f}'.format\n",
    "pd.set_option('display.max_columns', 500)"
   ]
  },
  {
   "cell_type": "markdown",
   "metadata": {},
   "source": [
    "### Data Exploration"
   ]
  },
  {
   "cell_type": "code",
   "execution_count": 3,
   "metadata": {},
   "outputs": [
    {
     "data": {
      "text/html": [
       "<div>\n",
       "<style scoped>\n",
       "    .dataframe tbody tr th:only-of-type {\n",
       "        vertical-align: middle;\n",
       "    }\n",
       "\n",
       "    .dataframe tbody tr th {\n",
       "        vertical-align: top;\n",
       "    }\n",
       "\n",
       "    .dataframe thead th {\n",
       "        text-align: right;\n",
       "    }\n",
       "</style>\n",
       "<table border=\"1\" class=\"dataframe\">\n",
       "  <thead>\n",
       "    <tr style=\"text-align: right;\">\n",
       "      <th></th>\n",
       "      <th>Invoice</th>\n",
       "      <th>StockCode</th>\n",
       "      <th>Description</th>\n",
       "      <th>Quantity</th>\n",
       "      <th>InvoiceDate</th>\n",
       "      <th>Price</th>\n",
       "      <th>Customer ID</th>\n",
       "      <th>Country</th>\n",
       "    </tr>\n",
       "  </thead>\n",
       "  <tbody>\n",
       "    <tr>\n",
       "      <th>0</th>\n",
       "      <td>536365</td>\n",
       "      <td>85123A</td>\n",
       "      <td>WHITE HANGING HEART T-LIGHT HOLDER</td>\n",
       "      <td>6</td>\n",
       "      <td>2010-12-01 08:26:00</td>\n",
       "      <td>2.55</td>\n",
       "      <td>17,850.00</td>\n",
       "      <td>United Kingdom</td>\n",
       "    </tr>\n",
       "    <tr>\n",
       "      <th>1</th>\n",
       "      <td>536365</td>\n",
       "      <td>71053</td>\n",
       "      <td>WHITE METAL LANTERN</td>\n",
       "      <td>6</td>\n",
       "      <td>2010-12-01 08:26:00</td>\n",
       "      <td>3.39</td>\n",
       "      <td>17,850.00</td>\n",
       "      <td>United Kingdom</td>\n",
       "    </tr>\n",
       "    <tr>\n",
       "      <th>2</th>\n",
       "      <td>536365</td>\n",
       "      <td>84406B</td>\n",
       "      <td>CREAM CUPID HEARTS COAT HANGER</td>\n",
       "      <td>8</td>\n",
       "      <td>2010-12-01 08:26:00</td>\n",
       "      <td>2.75</td>\n",
       "      <td>17,850.00</td>\n",
       "      <td>United Kingdom</td>\n",
       "    </tr>\n",
       "    <tr>\n",
       "      <th>3</th>\n",
       "      <td>536365</td>\n",
       "      <td>84029G</td>\n",
       "      <td>KNITTED UNION FLAG HOT WATER BOTTLE</td>\n",
       "      <td>6</td>\n",
       "      <td>2010-12-01 08:26:00</td>\n",
       "      <td>3.39</td>\n",
       "      <td>17,850.00</td>\n",
       "      <td>United Kingdom</td>\n",
       "    </tr>\n",
       "    <tr>\n",
       "      <th>4</th>\n",
       "      <td>536365</td>\n",
       "      <td>84029E</td>\n",
       "      <td>RED WOOLLY HOTTIE WHITE HEART.</td>\n",
       "      <td>6</td>\n",
       "      <td>2010-12-01 08:26:00</td>\n",
       "      <td>3.39</td>\n",
       "      <td>17,850.00</td>\n",
       "      <td>United Kingdom</td>\n",
       "    </tr>\n",
       "  </tbody>\n",
       "</table>\n",
       "</div>"
      ],
      "text/plain": [
       "  Invoice StockCode                          Description  Quantity  \\\n",
       "0  536365    85123A   WHITE HANGING HEART T-LIGHT HOLDER         6   \n",
       "1  536365     71053                  WHITE METAL LANTERN         6   \n",
       "2  536365    84406B       CREAM CUPID HEARTS COAT HANGER         8   \n",
       "3  536365    84029G  KNITTED UNION FLAG HOT WATER BOTTLE         6   \n",
       "4  536365    84029E       RED WOOLLY HOTTIE WHITE HEART.         6   \n",
       "\n",
       "          InvoiceDate  Price  Customer ID         Country  \n",
       "0 2010-12-01 08:26:00   2.55    17,850.00  United Kingdom  \n",
       "1 2010-12-01 08:26:00   3.39    17,850.00  United Kingdom  \n",
       "2 2010-12-01 08:26:00   2.75    17,850.00  United Kingdom  \n",
       "3 2010-12-01 08:26:00   3.39    17,850.00  United Kingdom  \n",
       "4 2010-12-01 08:26:00   3.39    17,850.00  United Kingdom  "
      ]
     },
     "execution_count": 3,
     "metadata": {},
     "output_type": "execute_result"
    }
   ],
   "source": [
    "df = pd.read_excel('datasets/online_retail_II.xlsx', sheet_name='Year 2010-2011')\n",
    "df.head()\n"
   ]
  },
  {
   "cell_type": "code",
   "execution_count": 4,
   "metadata": {},
   "outputs": [
    {
     "name": "stdout",
     "output_type": "stream",
     "text": [
      "<class 'pandas.core.frame.DataFrame'>\n",
      "RangeIndex: 541910 entries, 0 to 541909\n",
      "Data columns (total 8 columns):\n",
      " #   Column       Non-Null Count   Dtype         \n",
      "---  ------       --------------   -----         \n",
      " 0   Invoice      541910 non-null  object        \n",
      " 1   StockCode    541910 non-null  object        \n",
      " 2   Description  540456 non-null  object        \n",
      " 3   Quantity     541910 non-null  int64         \n",
      " 4   InvoiceDate  541910 non-null  datetime64[ns]\n",
      " 5   Price        541910 non-null  float64       \n",
      " 6   Customer ID  406830 non-null  float64       \n",
      " 7   Country      541910 non-null  object        \n",
      "dtypes: datetime64[ns](1), float64(2), int64(1), object(4)\n",
      "memory usage: 33.1+ MB\n"
     ]
    }
   ],
   "source": [
    "df.info()"
   ]
  },
  {
   "cell_type": "code",
   "execution_count": 6,
   "metadata": {},
   "outputs": [
    {
     "data": {
      "text/plain": [
       "Invoice             0\n",
       "StockCode           0\n",
       "Description      1454\n",
       "Quantity            0\n",
       "InvoiceDate         0\n",
       "Price               0\n",
       "Customer ID    135080\n",
       "Country             0\n",
       "dtype: int64"
      ]
     },
     "execution_count": 6,
     "metadata": {},
     "output_type": "execute_result"
    }
   ],
   "source": [
    "df.isna().sum()"
   ]
  },
  {
   "cell_type": "code",
   "execution_count": 11,
   "metadata": {},
   "outputs": [
    {
     "name": "stdout",
     "output_type": "stream",
     "text": [
      "Top 5 Distribution of data by country:\n",
      "                 Count  Percentage\n",
      "Country                           \n",
      "United Kingdom  495478       91.43\n",
      "Germany           9495        1.75\n",
      "France            8558        1.58\n",
      "EIRE              8196        1.51\n",
      "Spain             2533        0.47\n"
     ]
    }
   ],
   "source": [
    "# Get value counts and percentages for each country\n",
    "country_distribution = df['Country'].value_counts()\n",
    "country_percentages = df['Country'].value_counts(normalize=True) * 100\n",
    "\n",
    "# Display both counts and percentages\n",
    "country_analysis = pd.DataFrame({\n",
    "    'Count': country_distribution,\n",
    "    'Percentage': country_percentages\n",
    "})\n",
    "\n",
    "# Sort by count in descending order\n",
    "country_analysis = country_analysis.sort_values('Count', ascending=False)\n",
    "\n",
    "# Round percentages to 2 decimal places\n",
    "country_analysis['Percentage'] = country_analysis['Percentage'].round(2)\n",
    "\n",
    "print(\"Top 5 Distribution of data by country:\")\n",
    "print(country_analysis[:5])"
   ]
  },
  {
   "cell_type": "code",
   "execution_count": 12,
   "metadata": {},
   "outputs": [
    {
     "name": "stdout",
     "output_type": "stream",
     "text": [
      "Number of invoices with missing Customer ID: 3710\n",
      "\n",
      "Sample of invoices with missing Customer IDs:\n",
      "         Number_of_Items  StockCode    Price\n",
      "Invoice                                     \n",
      "536414                 0          1     0.00\n",
      "536544                 0        527 2,987.72\n",
      "536545                 0          1     0.00\n",
      "536546                 0          1     0.00\n",
      "536547                 0          1     0.00\n",
      "\n",
      "All invoices with missing Customer IDs are consistently missing (good consistency)\n",
      "\n",
      "Analysis of transactions with missing Customer IDs:\n",
      "         Invoice  StockCode        Price   Quantity\n",
      "nunique 3,710.00        NaN          NaN        NaN\n",
      "count        NaN 135,080.00          NaN        NaN\n",
      "sum          NaN        NaN 1,090,984.01 269,562.00\n",
      "mean         NaN        NaN         8.08       2.00\n",
      "\n",
      "Distribution of missing Customer IDs by country:\n",
      "Country\n",
      "United Kingdom    3637\n",
      "EIRE                41\n",
      "Hong Kong           15\n",
      "Unspecified          5\n",
      "Israel               3\n",
      "Switzerland          3\n",
      "France               3\n",
      "Bahrain              2\n",
      "Portugal             1\n",
      "dtype: int64\n"
     ]
    }
   ],
   "source": [
    "# First, let's see the invoices with missing Customer IDs\n",
    "missing_customer_invoices = df[df['Customer ID'].isna()]['Invoice'].unique()\n",
    "\n",
    "# Get count of how many times each invoice appears\n",
    "invoice_analysis = df[df['Customer ID'].isna()].groupby('Invoice').agg({\n",
    "    'Customer ID': 'count',  # Count of rows for each invoice\n",
    "    'StockCode': 'count',    # Number of items in invoice\n",
    "    'Price': 'sum'          # Total value of invoice\n",
    "}).rename(columns={'Customer ID': 'Number_of_Items'})\n",
    "\n",
    "# Check if these invoices ever appear with a Customer ID\n",
    "invoices_with_customer = df[\n",
    "    (df['Invoice'].isin(missing_customer_invoices)) & \n",
    "    (df['Customer ID'].notna())\n",
    "]\n",
    "\n",
    "# Summary of findings\n",
    "print(f\"Number of invoices with missing Customer ID: {len(missing_customer_invoices)}\")\n",
    "print(\"\\nSample of invoices with missing Customer IDs:\")\n",
    "print(invoice_analysis.head())\n",
    "\n",
    "if len(invoices_with_customer) > 0:\n",
    "    print(\"\\nWARNING: Found invoices that appear with both missing and non-missing Customer IDs:\")\n",
    "    print(invoices_with_customer[['Invoice', 'Customer ID']].head())\n",
    "else:\n",
    "    print(\"\\nAll invoices with missing Customer IDs are consistently missing (good consistency)\")\n",
    "\n",
    "# Additional analysis by invoice characteristics\n",
    "print(\"\\nAnalysis of transactions with missing Customer IDs:\")\n",
    "missing_analysis = df[df['Customer ID'].isna()].agg({\n",
    "    'Invoice': 'nunique',\n",
    "    'StockCode': 'count',\n",
    "    'Price': ['sum', 'mean'],\n",
    "    'Quantity': ['sum', 'mean']\n",
    "}).round(2)\n",
    "print(missing_analysis)\n",
    "\n",
    "# Check if there are any patterns\n",
    "missing_patterns = df[df['Customer ID'].isna()].groupby(['Country', 'Invoice']).size().reset_index()\n",
    "print(\"\\nDistribution of missing Customer IDs by country:\")\n",
    "print(missing_patterns.groupby('Country').size().sort_values(ascending=False))"
   ]
  },
  {
   "cell_type": "code",
   "execution_count": 5,
   "metadata": {},
   "outputs": [
    {
     "data": {
      "text/html": [
       "<div>\n",
       "<style scoped>\n",
       "    .dataframe tbody tr th:only-of-type {\n",
       "        vertical-align: middle;\n",
       "    }\n",
       "\n",
       "    .dataframe tbody tr th {\n",
       "        vertical-align: top;\n",
       "    }\n",
       "\n",
       "    .dataframe thead th {\n",
       "        text-align: right;\n",
       "    }\n",
       "</style>\n",
       "<table border=\"1\" class=\"dataframe\">\n",
       "  <thead>\n",
       "    <tr style=\"text-align: right;\">\n",
       "      <th></th>\n",
       "      <th>Quantity</th>\n",
       "      <th>InvoiceDate</th>\n",
       "      <th>Price</th>\n",
       "      <th>Customer ID</th>\n",
       "    </tr>\n",
       "  </thead>\n",
       "  <tbody>\n",
       "    <tr>\n",
       "      <th>count</th>\n",
       "      <td>541,910.00</td>\n",
       "      <td>541910</td>\n",
       "      <td>541,910.00</td>\n",
       "      <td>406,830.00</td>\n",
       "    </tr>\n",
       "    <tr>\n",
       "      <th>mean</th>\n",
       "      <td>9.55</td>\n",
       "      <td>2011-07-04 13:35:22.342307584</td>\n",
       "      <td>4.61</td>\n",
       "      <td>15,287.68</td>\n",
       "    </tr>\n",
       "    <tr>\n",
       "      <th>min</th>\n",
       "      <td>-80,995.00</td>\n",
       "      <td>2010-12-01 08:26:00</td>\n",
       "      <td>-11,062.06</td>\n",
       "      <td>12,346.00</td>\n",
       "    </tr>\n",
       "    <tr>\n",
       "      <th>25%</th>\n",
       "      <td>1.00</td>\n",
       "      <td>2011-03-28 11:34:00</td>\n",
       "      <td>1.25</td>\n",
       "      <td>13,953.00</td>\n",
       "    </tr>\n",
       "    <tr>\n",
       "      <th>50%</th>\n",
       "      <td>3.00</td>\n",
       "      <td>2011-07-19 17:17:00</td>\n",
       "      <td>2.08</td>\n",
       "      <td>15,152.00</td>\n",
       "    </tr>\n",
       "    <tr>\n",
       "      <th>75%</th>\n",
       "      <td>10.00</td>\n",
       "      <td>2011-10-19 11:27:00</td>\n",
       "      <td>4.13</td>\n",
       "      <td>16,791.00</td>\n",
       "    </tr>\n",
       "    <tr>\n",
       "      <th>max</th>\n",
       "      <td>80,995.00</td>\n",
       "      <td>2011-12-09 12:50:00</td>\n",
       "      <td>38,970.00</td>\n",
       "      <td>18,287.00</td>\n",
       "    </tr>\n",
       "    <tr>\n",
       "      <th>std</th>\n",
       "      <td>218.08</td>\n",
       "      <td>NaN</td>\n",
       "      <td>96.76</td>\n",
       "      <td>1,713.60</td>\n",
       "    </tr>\n",
       "  </tbody>\n",
       "</table>\n",
       "</div>"
      ],
      "text/plain": [
       "        Quantity                    InvoiceDate      Price  Customer ID\n",
       "count 541,910.00                         541910 541,910.00   406,830.00\n",
       "mean        9.55  2011-07-04 13:35:22.342307584       4.61    15,287.68\n",
       "min   -80,995.00            2010-12-01 08:26:00 -11,062.06    12,346.00\n",
       "25%         1.00            2011-03-28 11:34:00       1.25    13,953.00\n",
       "50%         3.00            2011-07-19 17:17:00       2.08    15,152.00\n",
       "75%        10.00            2011-10-19 11:27:00       4.13    16,791.00\n",
       "max    80,995.00            2011-12-09 12:50:00  38,970.00    18,287.00\n",
       "std       218.08                            NaN      96.76     1,713.60"
      ]
     },
     "execution_count": 5,
     "metadata": {},
     "output_type": "execute_result"
    }
   ],
   "source": [
    "df.describe()"
   ]
  },
  {
   "cell_type": "code",
   "execution_count": null,
   "metadata": {},
   "outputs": [],
   "source": []
  }
 ],
 "metadata": {
  "kernelspec": {
   "display_name": "venv",
   "language": "python",
   "name": "python3"
  },
  "language_info": {
   "codemirror_mode": {
    "name": "ipython",
    "version": 3
   },
   "file_extension": ".py",
   "mimetype": "text/x-python",
   "name": "python",
   "nbconvert_exporter": "python",
   "pygments_lexer": "ipython3",
   "version": "3.12.0"
  }
 },
 "nbformat": 4,
 "nbformat_minor": 2
}
