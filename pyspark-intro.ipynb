{
 "cells": [
  {
   "cell_type": "code",
   "execution_count": 1,
   "metadata": {},
   "outputs": [],
   "source": [
    "from pyspark.sql import SparkSession\n",
    "# from pyspark.sql.function import col, sum, when, count"
   ]
  },
  {
   "cell_type": "code",
   "execution_count": 2,
   "metadata": {},
   "outputs": [],
   "source": [
    "# Step 1: Initialize Spark session\n",
    "spark = SparkSession.builder \\\n",
    "    .appName(\"Forestry ETL Pipeline\") \\\n",
    "    .getOrCreate()"
   ]
  },
  {
   "cell_type": "code",
   "execution_count": 11,
   "metadata": {},
   "outputs": [
    {
     "name": "stdout",
     "output_type": "stream",
     "text": [
      "+----------+---------------+--------+\n",
      "|      date|          state|    area|\n",
      "+----------+---------------+--------+\n",
      "|2003-01-01|          Johor|356922.0|\n",
      "|2003-01-01|          Kedah|344530.0|\n",
      "|2003-01-01|       Kelantan|629687.0|\n",
      "|2003-01-01|         Melaka|  5468.0|\n",
      "|2003-01-01|Negeri Sembilan|165639.0|\n",
      "+----------+---------------+--------+\n",
      "only showing top 5 rows\n",
      "\n",
      "The data schema is:\n",
      "root\n",
      " |-- date: date (nullable = true)\n",
      " |-- state: string (nullable = true)\n",
      " |-- area: double (nullable = true)\n",
      "\n"
     ]
    }
   ],
   "source": [
    "df = spark.read.csv(\"datasets/forest_reserve_state.csv\", header=True, inferSchema=True)\n",
    "df.show(5)\n",
    "print(\"The data schema is:\")\n",
    "df.printSchema()\n"
   ]
  },
  {
   "cell_type": "code",
   "execution_count": 13,
   "metadata": {},
   "outputs": [
    {
     "name": "stdout",
     "output_type": "stream",
     "text": [
      "+----------+---------------+--------+----+\n",
      "|      date|          state|    area|year|\n",
      "+----------+---------------+--------+----+\n",
      "|2003-01-01|          Johor|356922.0|2003|\n",
      "|2003-01-01|          Kedah|344530.0|2003|\n",
      "|2003-01-01|       Kelantan|629687.0|2003|\n",
      "|2003-01-01|         Melaka|  5468.0|2003|\n",
      "|2003-01-01|Negeri Sembilan|165639.0|2003|\n",
      "+----------+---------------+--------+----+\n",
      "only showing top 5 rows\n",
      "\n"
     ]
    }
   ],
   "source": [
    "from pyspark.sql.functions import year, to_date, col\n",
    "df = df.withColumn('year', year(col('date')))\n",
    "df.show(5)"
   ]
  },
  {
   "cell_type": "code",
   "execution_count": 14,
   "metadata": {},
   "outputs": [
    {
     "name": "stdout",
     "output_type": "stream",
     "text": [
      "+-------+--------------+------------------+-----------------+\n",
      "|summary|         state|              area|             year|\n",
      "+-------+--------------+------------------+-----------------+\n",
      "|  count|           323|               321|              323|\n",
      "|   mean|          NULL|1017556.8255451714|           2012.0|\n",
      "| stddev|          NULL|1551939.5109304378|5.485723990674799|\n",
      "|    min|         Johor|               0.0|             2003|\n",
      "|    max|W.P. Putrajaya|         4936290.0|             2021|\n",
      "+-------+--------------+------------------+-----------------+\n",
      "\n"
     ]
    }
   ],
   "source": [
    "df.describe().show()\n"
   ]
  },
  {
   "cell_type": "code",
   "execution_count": 15,
   "metadata": {},
   "outputs": [
    {
     "name": "stdout",
     "output_type": "stream",
     "text": [
      "+-------+--------------+----+-----------------+\n",
      "|summary|         state|area|             year|\n",
      "+-------+--------------+----+-----------------+\n",
      "|  count|            38|  38|               38|\n",
      "|   mean|          NULL| 0.0|           2012.0|\n",
      "| stddev|          NULL| 0.0|5.550748671198406|\n",
      "|    min|   W.P. Labuan| 0.0|             2003|\n",
      "|    max|W.P. Putrajaya| 0.0|             2021|\n",
      "+-------+--------------+----+-----------------+\n",
      "\n"
     ]
    }
   ],
   "source": [
    "df_zeros = df.filter(df['area'] == 0)\n",
    "df_zeros.describe().show()"
   ]
  },
  {
   "cell_type": "code",
   "execution_count": 16,
   "metadata": {},
   "outputs": [
    {
     "name": "stdout",
     "output_type": "stream",
     "text": [
      "+-----------------+---------+\n",
      "|            state|min(area)|\n",
      "+-----------------+---------+\n",
      "|      W.P. Labuan|      0.0|\n",
      "|   W.P. Putrajaya|      0.0|\n",
      "|W.P. Kuala Lumpur|     61.0|\n",
      "|           Melaka|   4818.0|\n",
      "|     Pulau Pinang|   5101.0|\n",
      "+-----------------+---------+\n",
      "only showing top 5 rows\n",
      "\n"
     ]
    }
   ],
   "source": [
    "# Generate State with the lowest forest reserve\n",
    "df.groupBy('state').min('area').orderBy('min(area)').show(5)"
   ]
  }
 ],
 "metadata": {
  "kernelspec": {
   "display_name": ".venv",
   "language": "python",
   "name": "python3"
  },
  "language_info": {
   "codemirror_mode": {
    "name": "ipython",
    "version": 3
   },
   "file_extension": ".py",
   "mimetype": "text/x-python",
   "name": "python",
   "nbconvert_exporter": "python",
   "pygments_lexer": "ipython3",
   "version": "3.12.0"
  }
 },
 "nbformat": 4,
 "nbformat_minor": 2
}
